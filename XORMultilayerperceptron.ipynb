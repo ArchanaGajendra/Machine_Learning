{
  "nbformat": 4,
  "nbformat_minor": 0,
  "metadata": {
    "colab": {
      "provenance": [],
      "authorship_tag": "ABX9TyPlHvjSNq8K5czrw6WwvMp6",
      "include_colab_link": true
    },
    "kernelspec": {
      "name": "python3",
      "display_name": "Python 3"
    },
    "language_info": {
      "name": "python"
    }
  },
  "cells": [
    {
      "cell_type": "markdown",
      "metadata": {
        "id": "view-in-github",
        "colab_type": "text"
      },
      "source": [
        "<a href=\"https://colab.research.google.com/github/ArchanaGajendra/Machine_Learning/blob/main/XORMultilayerperceptron.ipynb\" target=\"_parent\"><img src=\"https://colab.research.google.com/assets/colab-badge.svg\" alt=\"Open In Colab\"/></a>"
      ]
    },
    {
      "cell_type": "code",
      "execution_count": null,
      "metadata": {
        "id": "QFKMKGpj3Ao2"
      },
      "outputs": [],
      "source": [
        "import numpy as np"
      ]
    },
    {
      "cell_type": "code",
      "source": [
        "def sigmoid(x):\n",
        " return 1 / (1 + np.exp(-x))\n",
        "def sigmoid_derivative(x):\n",
        " return x * (1 - x)"
      ],
      "metadata": {
        "id": "cHSn7JZh3Id2"
      },
      "execution_count": null,
      "outputs": []
    },
    {
      "cell_type": "code",
      "source": [
        "np.random.seed(1)"
      ],
      "metadata": {
        "id": "9DtMkikk8BBg"
      },
      "execution_count": null,
      "outputs": []
    },
    {
      "cell_type": "code",
      "source": [
        "input = np.array([[0, 0], [0, 1], [1, 0], [1, 1]])"
      ],
      "metadata": {
        "id": "1Lhg_3X28S4i"
      },
      "execution_count": null,
      "outputs": []
    },
    {
      "cell_type": "code",
      "source": [
        "output = np.array([[0], [1], [1], [0]])"
      ],
      "metadata": {
        "id": "RB2Nmdjq8XpM"
      },
      "execution_count": null,
      "outputs": []
    },
    {
      "cell_type": "code",
      "source": [
        "inputneurons = input.shape[1]"
      ],
      "metadata": {
        "id": "avIvNSWY8bUk"
      },
      "execution_count": null,
      "outputs": []
    },
    {
      "cell_type": "code",
      "source": [
        "hidden_layer_neurons = 2"
      ],
      "metadata": {
        "id": "obwbhqot8gls"
      },
      "execution_count": null,
      "outputs": []
    },
    {
      "cell_type": "code",
      "source": [
        "output_neurons = 1"
      ],
      "metadata": {
        "id": "VL_2vmSv9drw"
      },
      "execution_count": null,
      "outputs": []
    },
    {
      "cell_type": "code",
      "source": [
        "weights_hidden = np.random.uniform(size=(inputneurons, hidden_layer_neurons))\n",
        "bias_hidden = np.random.uniform(size=(1, hidden_layer_neurons))\n",
        "weights_output = np.random.uniform(size=(hidden_layer_neurons, output_neurons))\n",
        "bias_output = np.random.uniform(size=(1, output_neurons))\n"
      ],
      "metadata": {
        "id": "TxsL8Pd6946C"
      },
      "execution_count": null,
      "outputs": []
    },
    {
      "cell_type": "code",
      "source": [
        "learning_rate = 0.1"
      ],
      "metadata": {
        "id": "4qQddasG-KCE"
      },
      "execution_count": null,
      "outputs": []
    },
    {
      "cell_type": "code",
      "source": [
        "epochs = 10000"
      ],
      "metadata": {
        "id": "JvMhMBzO-RYO"
      },
      "execution_count": null,
      "outputs": []
    },
    {
      "cell_type": "code",
      "source": [
        "for epoch in range(epochs):\n",
        "    hidden_layer_input = np.dot(input, weights_hidden) + bias_hidden\n",
        "    hidden_layer_activation = sigmoid(hidden_layer_input)\n"
      ],
      "metadata": {
        "id": "eO8vE7pR-bYu"
      },
      "execution_count": null,
      "outputs": []
    },
    {
      "cell_type": "code",
      "source": [
        "output_layer_input = np.dot(hidden_layer_activation, weights_output) + bias_output\n",
        "predicted_output = sigmoid(output_layer_input)"
      ],
      "metadata": {
        "id": "NzZpcXRX-hWK"
      },
      "execution_count": null,
      "outputs": []
    },
    {
      "cell_type": "code",
      "source": [
        "error = output - predicted_output"
      ],
      "metadata": {
        "id": "lyD-aIn6-mrr"
      },
      "execution_count": null,
      "outputs": []
    },
    {
      "cell_type": "code",
      "source": [
        "d_predicted_output = error * sigmoid_derivative(predicted_output)\n",
        "error_hidden_layer = d_predicted_output.dot(weights_output.T)\n",
        "d_hidden_layer = error_hidden_layer * sigmoid_derivative(hidden_layer_activation)"
      ],
      "metadata": {
        "id": "VkmO7TOa-vPg"
      },
      "execution_count": null,
      "outputs": []
    },
    {
      "cell_type": "code",
      "source": [
        "weights_output += hidden_layer_activation.T.dot(d_predicted_output) * learning_rate\n",
        "bias_output += np.sum(d_predicted_output, axis=0, keepdims=True) * learning_rate\n",
        "weights_hidden += input.T.dot(d_hidden_layer) * learning_rate\n",
        "bias_hidden += np.sum(d_hidden_layer, axis=0, keepdims=True) * learning_rate"
      ],
      "metadata": {
        "id": "firXSkJV-0-L"
      },
      "execution_count": null,
      "outputs": []
    },
    {
      "cell_type": "code",
      "source": [
        "if epoch % 1000 == 0:\n",
        " print(f'Epoch {epoch}, Error: {np.mean(np.abs(error))}')\n",
        "print(\"Final predicted output:\")\n",
        "print(predicted_output)"
      ],
      "metadata": {
        "colab": {
          "base_uri": "https://localhost:8080/"
        },
        "id": "Mozg4pCK-98U",
        "outputId": "f0b291bc-d32d-4f9f-d637-541a65d88b6a"
      },
      "execution_count": null,
      "outputs": [
        {
          "output_type": "stream",
          "name": "stdout",
          "text": [
            "Final predicted output:\n",
            "[[0.66317399]\n",
            " [0.66888904]\n",
            " [0.68023193]\n",
            " [0.68475449]]\n"
          ]
        }
      ]
    }
  ]
}